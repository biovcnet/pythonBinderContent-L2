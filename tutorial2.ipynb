{
 "cells": [
  {
   "cell_type": "markdown",
   "metadata": {},
   "source": [
    "## Setting and determining variable types\n",
    "\n",
    "The following code contains only two lines\n",
    "\n",
    "In the first line, a *variable* `y` is set as the integer, 6. Python will automatically classify the variable's datatype based on the user's input if the datatype is not explicitly set. \n",
    "\n",
    "The second line uses the python function `print` to show the variable in standard output and the datatype\n",
    "\n",
    "Run the code to see standard output. For instructions on launching console and running code selections, see [Tutorial 1](https://github.com/biovcnet/python/tree/master/Lesson1)"
   ]
  },
  {
   "cell_type": "code",
   "execution_count": null,
   "metadata": {},
   "outputs": [],
   "source": [
    "#set variable\n",
    "y=6\n",
    "\n",
    "#print variable type\n",
    "print('y is ',type(y))"
   ]
  },
  {
   "cell_type": "markdown",
   "metadata": {},
   "source": [
    "Notice that the print statement prints the integer 6, which `y` is now set to, and the datatype- `class int`\n",
    "\n",
    "Edit the the variable declaration and the print function to set the variable using each python method in the *python function* column of **Table I**. You may do this in any order you like as long as the **last time the variable is set as a string**. This is required for the next exercise."
   ]
  },
  {
   "cell_type": "markdown",
   "metadata": {},
   "source": [
    "## string manipulation\n",
    "\n",
    "Python strings can be manipulated by several built-in functions. The most common are `strip`,`lower`,`upper`,`replace`, and `split`\n",
    "\n",
    "These built in functions are used in the format `theString.function()`. Specifics are in **Table III**\n",
    "\n",
    "Technical note on `strip`: it only strips the string of the *leading* and *trailing* characters specified.\n",
    "\n",
    "Before we continue, double check that **y is set as str** in your console by running the the cell below.\n",
    "\n",
    "We are first going to *concatenate* y with another string- combine into into one string. Strings can be concatenated using a `+`"
   ]
  },
  {
   "cell_type": "code",
   "execution_count": null,
   "metadata": {},
   "outputs": [],
   "source": [
    "print(type(y))"
   ]
  },
  {
   "cell_type": "markdown",
   "metadata": {},
   "source": [
    "Set a variable `newString` to `'y is '+y` in the cell provided below"
   ]
  },
  {
   "cell_type": "code",
   "execution_count": null,
   "metadata": {},
   "outputs": [],
   "source": []
  },
  {
   "cell_type": "markdown",
   "metadata": {},
   "source": [
    "Let's now set newString to an altered version of itself using the built in functions.\n",
    "\n",
    "Do the following in this order:\n",
    "\n",
    "+ set newString to all uppercase letters and print \n",
    "+ set newString to all lowercase letters and print\n",
    "+ remove any occurrences of the character `y` at the trailing ends of the string and print\n",
    "+ replace the space now at the beginning of newString with `y` and print\n",
    "+ break up the string along occurrences of the `space character` print\n",
    "\n",
    "The first item in the list will be provided as an example below. Edit the cell with the first item to go through each item in the list"
   ]
  },
  {
   "cell_type": "code",
   "execution_count": null,
   "metadata": {},
   "outputs": [],
   "source": [
    "newString=newString.upper()\n",
    "print(newString)"
   ]
  },
  {
   "cell_type": "markdown",
   "metadata": {},
   "source": [
    "While manipulating strings in python, there are special characters that the user needs to be aware of. These *escape characters* are listed in **Table II**\n",
    "\n",
    "An *escape character* is a character or combination of characters that tells python to encode a format. \n",
    "\n",
    "For example, the `\\n` escape character tells python to break the string and start a new line. \n",
    "\n",
    "We will concatenate two strings with the escape characters listed in **Table II** in a print statement. \n",
    "\n",
    "Run the cell below to set string1 and string2, using the first escape character as an example."
   ]
  },
  {
   "cell_type": "code",
   "execution_count": null,
   "metadata": {},
   "outputs": [],
   "source": [
    "string1='the escape character '+r\"\\'\"\n",
    "string2=' does \\''"
   ]
  },
  {
   "cell_type": "markdown",
   "metadata": {},
   "source": [
    "Run the cell below to print the concatenated string."
   ]
  },
  {
   "cell_type": "code",
   "execution_count": null,
   "metadata": {},
   "outputs": [],
   "source": [
    "print(string1 + string2)"
   ]
  },
  {
   "cell_type": "markdown",
   "metadata": {},
   "source": [
    "Edit the cells and rerun to go through the escape characters in **Table II**. Notice that to print the escape character, it is enclosed in `r\" \"`. This runs a python function `repr()` which stops the escape character from doing its job within the string."
   ]
  }
 ],
 "metadata": {
  "kernelspec": {
   "display_name": "Python 3",
   "language": "python",
   "name": "python3"
  },
  "language_info": {
   "codemirror_mode": {
    "name": "ipython",
    "version": 3
   },
   "file_extension": ".py",
   "mimetype": "text/x-python",
   "name": "python",
   "nbconvert_exporter": "python",
   "pygments_lexer": "ipython3",
   "version": "3.7.6"
  }
 },
 "nbformat": 4,
 "nbformat_minor": 4
}
