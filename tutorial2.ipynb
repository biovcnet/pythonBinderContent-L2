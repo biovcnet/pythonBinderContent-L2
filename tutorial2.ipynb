{
 "cells": [
  {
   "cell_type": "markdown",
   "metadata": {},
   "source": [
    "## Setting and determining variable types\n",
    "\n",
    "In the first line, a *variable* `q` is set as the integer, 6. Python will automatically classify the variable's datatype based on the user's input if the datatype is not explicitly set. \n",
    "\n",
    "We can use the python function `print` to show the variable in standard output and the datatype\n",
    "\n",
    "Run the code to see standard output"
   ]
  },
  {
   "cell_type": "code",
   "execution_count": null,
   "metadata": {},
   "outputs": [],
   "source": [
    "#immutable data types\n",
    "#int\n",
    "q = 6\n",
    "#string\n",
    "w = \"Hello there\"\n",
    "#float\n",
    "e = 42.42\n",
    "#tuples\n",
    "r = (5,32.0)\n",
    "\n",
    "#mutable data types\n",
    "#list\n",
    "#sets\n",
    "#dictionary\n",
    "\n",
    "#print variable type\n",
    "print(w,\"is\",type(w))"
   ]
  },
  {
   "cell_type": "markdown",
   "metadata": {},
   "source": [
    "Notice that the print statement prints the name of variable, and not `6`, and the datatype- `class int`\n",
    "\n",
    "Following the commented out line - examine all of the variables and variable type outputs"
   ]
  },
  {
   "cell_type": "code",
   "execution_count": null,
   "metadata": {},
   "outputs": [],
   "source": [
    "#Replace q with different variable letters\n",
    "#print(q, type(q))\n"
   ]
  },
  {
   "cell_type": "markdown",
   "metadata": {},
   "source": [
    "It is possible to force Python to change the data type of a variable using the functions in the *python method* column of **Table I**."
   ]
  },
  {
   "cell_type": "code",
   "execution_count": null,
   "metadata": {},
   "outputs": [],
   "source": [
    "#start with a float\n",
    "t = 63.21\n",
    "#convert to other data types\n",
    "#y = str(t)\n",
    "#print(y, type(y))\n"
   ]
  },
  {
   "cell_type": "code",
   "execution_count": null,
   "metadata": {},
   "outputs": [],
   "source": [
    "print(w+\"is\"+type(w))"
   ]
  },
  {
   "cell_type": "markdown",
   "metadata": {},
   "source": [
    "You can only *concatenate* strings with other strings. To combine into into one string, we use a `+`"
   ]
  },
  {
   "cell_type": "markdown",
   "metadata": {},
   "source": [
    "## String manipulation\n",
    "\n",
    "Biology data comes in 2 types - sequences and numbers\n",
    "\n",
    "Python strings can be manipulated by several built-in functions. The most common are `strip`,`lower`,`upper`,`replace`, and `split`\n",
    "\n",
    "These built in functions are used in the format `theString.function()`. Specifics are in **Table II**\n",
    "\n",
    "Technical note on `strip`: it only strips the string of the *leading* and *trailing* characters specified."
   ]
  },
  {
   "cell_type": "code",
   "execution_count": null,
   "metadata": {},
   "outputs": [],
   "source": [
    "sequence = \"\\nATGCGATTTCAGATCT\\n\"\n",
    "taxonomy = \"D_0__Bacteria;D_1__Proteobacteria;D_2__Gammaproteobacteria;D_3__Betaproteobacteriales;D_4__Burkholderiaceae;D_5__Parasutterella\""
   ]
  },
  {
   "cell_type": "markdown",
   "metadata": {},
   "source": [
    "Compare `sequence` before and after `.strip()`"
   ]
  },
  {
   "cell_type": "code",
   "execution_count": null,
   "metadata": {},
   "outputs": [],
   "source": [
    "print(sequence+sequence)"
   ]
  },
  {
   "cell_type": "code",
   "execution_count": null,
   "metadata": {},
   "outputs": [],
   "source": [
    "sequence = sequence.strip()\n",
    "print(sequence+sequence)"
   ]
  },
  {
   "cell_type": "markdown",
   "metadata": {},
   "source": [
    "Convert sequence using `upper`, `lower`, and `replace`\n",
    "\n",
    "***Print the variable sequence in all lower case***"
   ]
  },
  {
   "cell_type": "code",
   "execution_count": null,
   "metadata": {},
   "outputs": [],
   "source": [
    "#print without changing the variable\n",
    "\n",
    "#create a new varialbe seq_lowercase\n",
    "\n",
    "#change the variable sequence to be lower case\n"
   ]
  },
  {
   "cell_type": "markdown",
   "metadata": {},
   "source": [
    "***Now convert your lower case sequences to upper case***"
   ]
  },
  {
   "cell_type": "code",
   "execution_count": null,
   "metadata": {},
   "outputs": [],
   "source": [
    "#print current sequence state\n",
    "\n",
    "#create an upper case version of seq_lowercase. call the variable seq_uppercase\n"
   ]
  },
  {
   "cell_type": "markdown",
   "metadata": {},
   "source": [
    "We use replace to change elements of the string\n",
    "\n",
    "`replace` formatting looks like string.replace('T','U')\n",
    "\n",
    "***Use replace to change our DNA sequence into mRNA***\n"
   ]
  },
  {
   "cell_type": "code",
   "execution_count": null,
   "metadata": {},
   "outputs": [],
   "source": [
    "#create a new variable called mrna using replace\n"
   ]
  },
  {
   "cell_type": "markdown",
   "metadata": {},
   "source": [
    "`split` allows us to use a delimiter to convert our string into list (we will talk more about lists in Lesson 3)\n",
    "\n",
    "***Split our taxonomy on various delimiters in the string***"
   ]
  },
  {
   "cell_type": "code",
   "execution_count": null,
   "metadata": {},
   "outputs": [],
   "source": [
    "#use ; as delimiter\n",
    "list1 = taxonomy.split(';')\n",
    "print(list1)\n",
    "#use D_ as delimiter\n",
    "\n",
    "#use ;D_ as delimter\n",
    "\n",
    "#use ;D_4__ as delimiter\n",
    "\n",
    "\n"
   ]
  },
  {
   "cell_type": "markdown",
   "metadata": {},
   "source": [
    "While manipulating strings in python, there are special characters that the user needs to be aware of. These *escape characters* are listed in **Table III**\n",
    "\n",
    "An *escape character* is a character or combination of characters that tells python to encode a format. \n",
    "\n",
    "As above when dealing with `strip` the `\\n` escape character tells python to break the string and start a new line. \n",
    "\n",
    "We will concatenate two strings with the escape characters listed in **Table II** in a print statement. \n",
    "\n",
    "Run the cell below to set string1 and string2, using the first escape character as an example."
   ]
  },
  {
   "cell_type": "markdown",
   "metadata": {},
   "source": [
    "Edit the cells and rerun to go through the escape characters in **Table II**.\n",
    "\n",
    "`\\` in Python has a ability to force special characters to behavior like normal characters OR for a normal character to act as a special character. There is only a handful of these examples.\n",
    "\n",
    "Notice that to print the escape character, it is enclosed in `r\" \"`. This runs a python function `repr()` which stops the escape character from doing its job within the string."
   ]
  },
  {
   "cell_type": "code",
   "execution_count": null,
   "metadata": {},
   "outputs": [],
   "source": [
    "string1='the escape character '+r\"\\'\"\n",
    "string2=' does\\'TESTSTRING'\n",
    "print(string1+string2)"
   ]
  },
  {
   "cell_type": "code",
   "execution_count": null,
   "metadata": {},
   "outputs": [],
   "source": []
  }
 ],
 "metadata": {
  "kernelspec": {
   "display_name": "Python 3",
   "language": "python",
   "name": "python3"
  },
  "language_info": {
   "codemirror_mode": {
    "name": "ipython",
    "version": 3
   },
   "file_extension": ".py",
   "mimetype": "text/x-python",
   "name": "python",
   "nbconvert_exporter": "python",
   "pygments_lexer": "ipython3",
   "version": "3.7.6"
  }
 },
 "nbformat": 4,
 "nbformat_minor": 4
}
