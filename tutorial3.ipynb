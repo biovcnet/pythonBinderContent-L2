{
 "cells": [
  {
   "cell_type": "markdown",
   "metadata": {},
   "source": [
    "# Lesson 3"
   ]
  },
  {
   "cell_type": "markdown",
   "metadata": {},
   "source": [
    "## List & Strings\n",
    "\n",
    "Lists hold indexed data with each indexed datum separated by a ‘,’. Declaring a dataset as a list can be done by enclosing in ‘[]’ or ‘list()’. For example, a list of strings might look like [‘a’, ‘b’, ‘c’]. You may notice similarities between string structures and indices and lists. This is because strings are treated as lists of characters in python.\n",
    "\n",
    "A common first task in many bioinformatics analyses is cleaning up strings- whether it be sequences or taxonomy information.\n",
    "\n",
    "Below, we  will declare three variables. Then, we will remove empty spaces from tax_string. For our analyses, we are only interested in the taxonomic information down to the order level. So, we will select a substring up to that point by finding “o__”. Finally, we will remove all of the taxonomic level indicators."
   ]
  },
  {
   "cell_type": "code",
   "execution_count": null,
   "metadata": {},
   "outputs": [],
   "source": [
    "tax_string = \"d__Bacteria; p__Proteobacteria; c__Alphaproteobacteria; o__Rhizobiales; f__Xanthobacteraceae; g__Bradyrhizobium; s__Bradyrhizobium canariense_A\"\n",
    "parameters = [\"Sample1\", \"Sample2\", \"Nitrogen1\", \"Nitrogen2\"]\n",
        "data_values = [0.4, 5.0, 1.2, 1.4]",
    "\n",
    "\n",
    "tax_string.strip()"
   ]
  },
  {
   "cell_type": "markdown",
   "metadata": {},
   "source": [
    "Notice that if we try to clean up all the white spaces in tax_string it does NOT work. This is because strip specifically only cleans up the specified characters from the leading and trailing ends of a string.\n",
    "\n",
    "Let’s try again using another method."
   ]
  },
  {
   "cell_type": "code",
   "execution_count": null,
   "metadata": {},
   "outputs": [],
   "source": [
    "tax_string=tax_string.replace(' ','')"
   ]
  },
  {
   "cell_type": "markdown",
   "metadata": {},
   "source": [
    "Using the string .replace() method, we can have each space character ‘replaced’ with no characters (in other words, deleting).Notice that I have to set tax_string equal to itself to overwrite the original variable. Otherwise, tax_string will not be modified.\n",
    "\n",
    "Now let’s retreive all the taxonomic information down to the order level. We will do this by using the string .find() method to locate ‘__f’, which is the classification level after order. Then we will using string indexing to retrieve what we want."
   ]
  },
  {
   "cell_type": "code",
   "execution_count": null,
   "metadata": {},
   "outputs": [],
   "source": [
    "orderEndInd=tax_string.find(';f__')\n",
    "\n",
    "print(orderEndInd)"
   ]
  },
  {
   "cell_type": "markdown",
   "metadata": {},
   "source": [
    "Notice when the variable orderEndInd is printed, it is a number. This number is the index of the first character of entire substring ';\\_\\_f' in tax_string. Now we are going to slice the string to include all characters from the beginning of tax string up to (not including)’;\\_\\_f’"
   ]
  },
  {
   "cell_type": "code",
   "execution_count": null,
   "metadata": {},
   "outputs": [],
   "source": [
    "order_tax_string=tax_string[:5]\n",
    "order_tax_string=tax_string[:orderEndInd]"
   ]
  },
  {
   "cell_type": "markdown",
   "metadata": {},
   "source": [
    "Notice that the indices for character positions are enclosed in []. In this case, I have used the short hand ‘:’ as one of my indices. When this precedes an index, it means to retrieve all characters from the beginning of that string up to (but not including) the index. When it comes after an index, it means to retrieve all characters from that index through the end of the string.\n",
    "\n",
    "order_tax_string will be the taxonomy for all 4 entries in our other lists of associated data. So, now, lets make a list called ‘tax_list’ populated with order_tax_string 4 times."
   ]
  },
  {
   "cell_type": "code",
   "execution_count": null,
   "metadata": {},
   "outputs": [],
   "source": [
    "tax_list=[order_tax_string]*4"
   ]
  },
  {
   "cell_type": "markdown",
   "metadata": {},
   "source": [
    "If you print tax_list, notice that tax list is compromised of the string order_tax_string 4 times, with each list entry separated by a comma.\n",
    "\n",
    "You can pull any specific entry from the list by it’s index, or slice it by using indices, the same way as you would a string.\n",
    "\n",
    "For example"
   ]
  },
  {
   "cell_type": "code",
   "execution_count": null,
   "metadata": {},
   "outputs": [],
   "source": [
    "tax_list[2:]"
   ]
  },
  {
   "cell_type": "markdown",
   "metadata": {},
   "source": [
    "will pull items from the list starting at index 2 through the end of the list. But, CAREFUL. While the start index begins at that index, if you were to include an end index, you will pull up to but NOT including that index.\n",
    "\n",
    "For example:"
   ]
  },
  {
   "cell_type": "code",
   "execution_count": null,
   "metadata": {},
   "outputs": [],
   "source": [
    "tax_list[1:3]"
   ]
  },
  {
   "cell_type": "markdown",
   "metadata": {},
   "source": [
    "will include indexed items 1 and 2, not 1, 2,and 3.\n",
    "\n",
    "More often then not, we are interested in the relationship between items in multiple lists rather than using a single list. If two lists of related items are ordered the same way, we can iterate through them in parallel to further sort our data.\n",
    "\n",
    "To iterate through two lists in parllel, we can use zip()."
   ]
  },
  {
   "cell_type": "code",
   "execution_count": null,
   "metadata": {},
   "outputs": [],
   "source": [
    "for sample, datum in zip(parameters, data_values):\n",
    "\n",
    "    print(sample, datum)"
   ]
  },
  {
   "cell_type": "markdown",
   "metadata": {},
   "source": [
    "Using this syntax, sample and datum are the respective individual items in the lists parameters and data_values\n",
    "\n",
    "Let’s say I wanted to only work with samples that had data values between 1 and 2."
   ]
  },
  {
   "cell_type": "code",
   "execution_count": null,
   "metadata": {},
   "outputs": [],
   "source": [
    "newParams=[]\n",
    "newDataValues=[]\n",
    "\n",
    "for sample, datum in zip(parameters, data_values):\n",
    "\n",
    "    if datum >= 1 and datum <=2:\n",
    "        \n",
    "        print('sample:',sample,'\\n datum:',datum)\n",
    "        \n",
    "        newParams.append(sample)\n",
    "        newDataValues.append(datum)"
   ]
  },
  {
   "cell_type": "markdown",
   "metadata": {},
   "source": [
    "I have declared two empty lists- newParams and newDataValues.\n",
    "\n",
    "Using this loop structure, i am iterating through the lists parameters and data_values in parallel.\n",
    "\n",
    "Only sample names and their corresponding data values that meet the condition in the if statement will be printed. Then, they will be added to their new lists.\n",
    "\n",
    "Let’s check out our filtered data sets using some built-in functions."
   ]
  },
  {
   "cell_type": "code",
   "execution_count": null,
   "metadata": {},
   "outputs": [],
   "source": [
    "print(len(newParams))"
   ]
  },
  {
   "cell_type": "markdown",
   "metadata": {},
   "source": [
    "will print the length of the newParams list."
   ]
  },
  {
   "cell_type": "code",
   "execution_count": null,
   "metadata": {},
   "outputs": [],
   "source": [
    "print(newParams[-1])"
   ]
  },
  {
   "cell_type": "markdown",
   "metadata": {},
   "source": [
    "will print the last item in the newParams list. The index -1 in pyton will always return the last item in a list.\n",
    "\n",
    "Let’s say that we wanted our lists arranged in descending data_value order (greatest to least) using the .sort() python function.This function alters the list in place. So, if we want to preserve the original indexing, we need to make a copy of the list first."
   ]
  },
  {
   "cell_type": "code",
   "execution_count": null,
   "metadata": {},
   "outputs": [],
   "source": [
    "unsortedDataValues=newDataValues.copy()\n",
    "newDataValues.sort(reverse=True)"
   ]
  },
  {
   "cell_type": "markdown",
   "metadata": {},
   "source": [
    "Now our data list is sorted in descending value. However, we need to reorder the corresponding newParams list to be in the correct order.\n",
    "\n",
    "For each element in sortednewDataValues, we need to find the corresponding element in newDataValues and its index.\n",
    "\n",
    "We can use list indexing to do this. Let’s iterate through the sorted newDataValues, find the index of each element in unsortedDataValues, and use that to grab the corresponding element in newParams."
   ]
  },
  {
   "cell_type": "code",
   "execution_count": null,
   "metadata": {},
   "outputs": [],
   "source": [
    "sortedNewParams=[]\n",
    "\n",
    "for val in newDataValues:\n",
    "    oldListInd=unsortedDataValues.index(val)\n",
    "    param=newParams[oldListInd]\n",
    "    \n",
    "    sortedNewParams.append(param)  "
   ]
  },
  {
   "cell_type": "markdown",
   "metadata": {},
   "source": [
    "Let’s print each item from our sorted lists and see if they are sorted properly."
   ]
  },
  {
   "cell_type": "code",
   "execution_count": null,
   "metadata": {},
   "outputs": [],
   "source": [
    "for sample, datum in zip(sortedNewParams, newDataValues):\n",
    "\n",
    "    print('sample: ',sample)\n",
    "    print('datum: ', datum,'\\n')"
   ]
  },
  {
   "cell_type": "markdown",
   "metadata": {},
   "source": [
    "As we can see from comparing to our original lists, this is the correct order.\n",
    "\n",
    "Now we can iterate through our shortened, sorted lists and turn them in to a list of sample:datum tuples, or pairs in the format (item1,item2), so they can be converted into a dictionary."
   ]
  },
  {
   "cell_type": "code",
   "execution_count": null,
   "metadata": {},
   "outputs": [],
   "source": [
    "sdTupleList=[]\n",
    "\n",
    "for sample, datum in zip(sortedNewParams, newDataValues):\n",
    "    sdTuple=(sample,datum)\n",
    "    \n",
    "    sdTupleList.append(sdTuple)\n",
    "\n",
    "print(sdTupleList)"
   ]
  },
  {
   "cell_type": "markdown",
   "metadata": {},
   "source": [
    "Notice that all of our data is now in sample,datum pairs. This can easily be converted into a dictionary by"
   ]
  },
  {
   "cell_type": "code",
   "execution_count": null,
   "metadata": {},
   "outputs": [],
   "source": [
    "sdDict=dict(sdTupleList)\n",
    "print(sdDict)"
   ]
  },
  {
   "cell_type": "markdown",
   "metadata": {},
   "source": [
    "## Dictionaries"
   ]
  },
  {
   "cell_type": "markdown",
   "metadata": {},
   "source": [
    "Dictionaries hold key-value pairs in a mutable data format - meaning that we can provide things like \"Chicago\":\"deep dish\", \"New York\":\"thin crust\" and then recall elements that are related to each other.\n",
    "\n",
    "For science we may have a parameter name `Sample 1` and want to store the value associated with Sample 1. For the example above,"
   ]
  },
  {
   "cell_type": "code",
   "execution_count": null,
   "metadata": {},
   "outputs": [],
   "source": [
    "parameters = [\"Sample1\", \"Sample2\", \"Nitrogen1\", \"Nitrogen2\"]\n",
    "data_values = [0.4, 5.0, 1.2, 1.4]"
   ]
  },
  {
   "cell_type": "markdown",
   "metadata": {},
   "source": [
    "There are many ways to initialize a dictionary.\n",
    "\n",
    "1. We can call a empty dictionary and fill it with each elements"
   ]
  },
  {
   "cell_type": "code",
   "execution_count": null,
   "metadata": {},
   "outputs": [],
   "source": [
    "dict1 = {}\n",
    "dict1 = {\"Sample1\":0.4, \"Sample2\":5.0, \"Nitrogen1\":1.2, \"Nitrogen2\":1.4}"
   ]
  },
  {
   "cell_type": "markdown",
   "metadata": {},
   "source": [
    "2. We can take a list of tuples and convert it to a dictionary with the `dict()` function"
   ]
  },
  {
   "cell_type": "code",
   "execution_count": null,
   "metadata": {},
   "outputs": [],
   "source": [
    "list1 = [(\"Sample1\",0.4), (\"Sample2\",5.0), (\"Nitrogen1\",1.2), (\"Nitrogen2\",1.4)]\n",
    "dict2 = dict(list1)"
   ]
  },
  {
   "cell_type": "code",
   "execution_count": null,
   "metadata": {},
   "outputs": [],
   "source": [
    "print(dict1)\n",
    "print(dict2)"
   ]
  },
  {
   "cell_type": "markdown",
   "metadata": {},
   "source": [
    "Dictionaries display their content based on how it was defined, but the information is not stored by numerical index like in a list."
   ]
  },
  {
   "cell_type": "markdown",
   "metadata": {},
   "source": [
    "### Accessing Contents in a Dictionary\n",
    "\n",
    "Recovering elements from a dictionary is based on the key and value terms\n",
    "\n",
    "If you tried to call the \"second\" element of a dictionary in the same way as a list - it will result in an error"
   ]
  },
  {
   "cell_type": "code",
   "execution_count": null,
   "metadata": {},
   "outputs": [],
   "source": [
    "dict1[1]"
   ]
  },
  {
   "cell_type": "markdown",
   "metadata": {},
   "source": [
    "We still use brackets to denote what we are trying to call, however, by asking for the second element like in a list it does not work\n",
    "\n",
    "Instead, we use the key to produce the value"
   ]
  },
  {
   "cell_type": "code",
   "execution_count": null,
   "metadata": {},
   "outputs": [],
   "source": [
    "dict1[\"Sample1\"]"
   ]
  },
  {
   "cell_type": "markdown",
   "metadata": {},
   "source": [
    "It is importanat for the key to be in the correct format. As the key is a string we need to provide a string.\n",
    "\n",
    "We can use this formating to `add`, `modify`, & `delete` elements"
   ]
  },
  {
   "cell_type": "code",
   "execution_count": null,
   "metadata": {},
   "outputs": [],
   "source": [
    "#add\n",
    "dict1[\"Sample3\"] = 4.1\n",
    "dict1"
   ]
  },
  {
   "cell_type": "code",
   "execution_count": null,
   "metadata": {},
   "outputs": [],
   "source": [
    "#modify\n",
    "dict1[\"Sample3\"] = 3.7\n",
    "dict1"
   ]
  },
  {
   "cell_type": "code",
   "execution_count": null,
   "metadata": {},
   "outputs": [],
   "source": [
    "#delete\n",
    "del dict1[\"Sample3\"]\n",
    "dict1"
   ]
  },
  {
   "cell_type": "markdown",
   "metadata": {},
   "source": [
    "We can use this method to build a dictionary incrementally. One element at a time. There are a few rules about keys - they can only be be immutable data types\n",
    "* includes str, int, float, bool\n",
    "* excludes tuples, lists, dicts\n",
    "\n",
    "Values can be anything, including objects like lists and more dictionaries!"
   ]
  },
  {
   "cell_type": "code",
   "execution_count": null,
   "metadata": {},
   "outputs": [],
   "source": [
    "dict3 = {}\n",
    "dict3[\"Sample1\"] = 3.1\n",
    "dict3[\"Phosphorous1\"] = 0.5\n",
    "dict3[0] = \"Time\"\n",
    "dict3[13] = \"Date\"\n",
    "print(dict3)"
   ]
  },
  {
   "cell_type": "code",
   "execution_count": null,
   "metadata": {},
   "outputs": [],
   "source": [
    "dict3[\"Phosphorous1\"]\n",
    "dict3[\"Phosphorous1\"] = 1\n",
    "dict3[0]"
   ]
  },
  {
   "cell_type": "markdown",
   "metadata": {},
   "source": [
    "Why do I successfully return an value here? Dictionaries do not use index numbering, BUT `0` is a key in my dictionary"
   ]
  },
  {
   "cell_type": "code",
   "execution_count": null,
   "metadata": {},
   "outputs": [],
   "source": [
    "dict3[1]\n"
   ]
  },
  {
   "cell_type": "code",
   "execution_count": null,
   "metadata": {},
   "outputs": [],
   "source": [
    "dict3[13]"
   ]
  },
  {
   "cell_type": "markdown",
   "metadata": {},
   "source": [
    "Here's an example of a dictionary within a dictionary"
   ]
  },
  {
   "cell_type": "code",
   "execution_count": null,
   "metadata": {},
   "outputs": [],
   "source": [
    "dict4 = {\"Bacillus\":{\"Sample1\":0.4, \"Sample2\":5.0, \"Nitrogen1\":1.2, \"Nitrogen2\":1.4}, \"Roseburia\":{\"Sample1\":1.6, \"Sample2\":2.0, \"Nitrogen1\":1.0, \"Nitrogen2\":1.8}}\n",
    "\n",
    "print(dict4[\"Bacillus\"])\n",
    "print(dict4[\"Roseburia\"])\n",
    "\n",
    "#To call specific items within the second dictionary, we need 2 key values\n",
    "\n",
    "dict4[\"Roseburia\"][\"Sample1\"]"
   ]
  },
  {
   "cell_type": "markdown",
   "metadata": {},
   "source": [
    "### Operators and Built-in Functions\n",
    "\n",
    "We can ask if a certain value is present in a dictionary with `in` and `not in`"
   ]
  },
  {
   "cell_type": "code",
   "execution_count": null,
   "metadata": {},
   "outputs": [],
   "source": [
    "print(dict1)\n",
    "print(\"Sample1\" in dict1)\n",
    "print(\"Sample1\" not in dict1)\n",
    "print(\"Sample5\" in dict1)"
   ]
  },
  {
   "cell_type": "markdown",
   "metadata": {},
   "source": [
    "We can use the `len()` function to return the number of keys in a dictionary"
   ]
  },
  {
   "cell_type": "code",
   "execution_count": null,
   "metadata": {},
   "outputs": [],
   "source": [
    "print(len(dict1))\n",
    "print(len(dict4))\n",
    "print(len(dict4[\"Bacillus\"]))"
   ]
  },
  {
   "cell_type": "markdown",
   "metadata": {},
   "source": [
    "#### clear()\n",
    "\n",
    "You can empty a dictionary using `clear()`"
   ]
  },
  {
   "cell_type": "code",
   "execution_count": null,
   "metadata": {},
   "outputs": [],
   "source": [
    "print(dict3)\n",
    "dict3.clear()\n",
    "print(dict3)"
   ]
  },
  {
   "cell_type": "markdown",
   "metadata": {},
   "source": [
    "#### get(<key\\>)\n",
    "\n",
    "`get()` searches a dictionary for a key and either returns the value or the if not present returns `None`. This allows you to check for a check without asking if it is `in` or `not in`.\n",
    "\n",
    "You can also set the returned value to something meaningful to your data."
   ]
  },
  {
   "cell_type": "code",
   "execution_count": null,
   "metadata": {},
   "outputs": [],
   "source": [
    "print(dict1.get(\"Sample1\"))\n",
    "print(dict1.get(\"Sample5\"))\n",
    "\n",
    "print(dict1.get(\"Sample5\", -1))"
   ]
  },
  {
   "cell_type": "markdown",
   "metadata": {},
   "source": [
    "#### items()\n",
    "\n",
    "`item()` returns a list of tuples with (key,value) pairs"
   ]
  },
  {
   "cell_type": "code",
   "execution_count": null,
   "metadata": {},
   "outputs": [],
   "source": [
    "list(dict1.items())"
   ]
  },
  {
   "cell_type": "markdown",
   "metadata": {},
   "source": [
    "#### keys()\n",
    "\n",
    "`keys()` returns a list of keys in the dictionary. This can be incredibly useful in the future in `for loops` to process items witin the dictionary"
   ]
  },
  {
   "cell_type": "code",
   "execution_count": null,
   "metadata": {},
   "outputs": [],
   "source": [
    "dict1.keys()"
   ]
  },
  {
   "cell_type": "markdown",
   "metadata": {},
   "source": [
    "#### values()\n",
    "\n",
    "`values()` works like `key()` but returns the values as a list not the keys. Multiple `values` with the same value will be returned individually in the list"
   ]
  },
  {
   "cell_type": "code",
   "execution_count": null,
   "metadata": {},
   "outputs": [],
   "source": [
    "dict1.values()\n",
    "dict5 = {1:10, 2:10, 3:10}\n",
    "dict5.values()"
   ]
  },
  {
   "cell_type": "markdown",
   "metadata": {},
   "source": [
    "#### pop()\n",
    "\n",
    "`pop()` removes a key-value pair from a dictionary using the key and returns the value"
   ]
  },
  {
   "cell_type": "code",
   "execution_count": null,
   "metadata": {},
   "outputs": [],
   "source": [
    "dict5.pop(1)"
   ]
  },
  {
   "cell_type": "code",
   "execution_count": null,
   "metadata": {},
   "outputs": [],
   "source": [
    "dict4.pop(\"Roseburia\")"
   ]
  },
  {
   "cell_type": "code",
   "execution_count": null,
   "metadata": {},
   "outputs": [],
   "source": [
    "dict4.pop(\"Faecalibacterium\")"
   ]
  },
  {
   "cell_type": "code",
   "execution_count": null,
   "metadata": {},
   "outputs": [],
   "source": [
    "dict4.pop(\"Faecalibacterium\", -1)"
   ]
  },
  {
   "cell_type": "markdown",
   "metadata": {},
   "source": [
    "#### popitem()\n",
    "\n",
    "`popitem()` removes the last key-value pair from a dictionary using the key and returns a tuple"
   ]
  },
  {
   "cell_type": "code",
   "execution_count": null,
   "metadata": {},
   "outputs": [],
   "source": [
    "dict2.pop(\"Sample2\")"
   ]
  },
  {
   "cell_type": "markdown",
   "metadata": {},
   "source": [
    "#### update()\n",
    "\n",
    "`update()` merges dictionaries or key-value pairs with an existing dictionary"
   ]
  },
  {
   "cell_type": "code",
   "execution_count": null,
   "metadata": {},
   "outputs": [],
   "source": [
    "dict6 = {'a':10, 'b':9, 'c':3}\n",
    "dict7 = {'d':11, 'e':5}\n",
    "\n",
    "dict6.update(dict7)\n",
    "dict6"
   ]
  },
  {
   "cell_type": "markdown",
   "metadata": {},
   "source": [
    "key-value pairs added as a list of tuples"
   ]
  },
  {
   "cell_type": "code",
   "execution_count": null,
   "metadata": {},
   "outputs": [],
   "source": [
    "dict6.update([('d',11), ('e', 5)])\n",
    "dict6"
   ]
  },
  {
   "cell_type": "markdown",
   "metadata": {},
   "source": [
    "key-value pairs added as a list of arguments"
   ]
  },
  {
   "cell_type": "code",
   "execution_count": null,
   "metadata": {},
   "outputs": [],
   "source": [
    "dict6.update(d=11, e=5)\n",
    "dict6"
   ]
  }
 ],
 "metadata": {
  "kernelspec": {
   "display_name": "Python 3",
   "language": "python",
   "name": "python3"
  },
  "language_info": {
   "codemirror_mode": {
    "name": "ipython",
    "version": 3
   },
   "file_extension": ".py",
   "mimetype": "text/x-python",
   "name": "python",
   "nbconvert_exporter": "python",
   "pygments_lexer": "ipython3",
   "version": "3.7.6"
  }
 },
 "nbformat": 4,
 "nbformat_minor": 4
}

